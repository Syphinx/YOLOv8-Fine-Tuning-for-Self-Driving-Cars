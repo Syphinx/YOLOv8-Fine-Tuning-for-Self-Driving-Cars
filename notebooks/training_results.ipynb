{
 "cells": [
  {
   "cell_type": "markdown",
   "metadata": {},
   "source": [
    "# Experimental Results: Image Outputs\n",
    "\n",
    "This notebook presents the image outputs generated during the experimental results analysis. The images include various visualizations such as confusion matrices, F1 curve, labels correlogram, precision curve, recall curve, and more. These visualizations offer valuable insights into the performance and outcomes of the experiment."
   ]
  },
  {
   "cell_type": "code",
   "execution_count": 1,
   "metadata": {},
   "outputs": [
    {
     "data": {
      "text/html": [
       "<h2>Confusion Matrix (Normalized)</h2>"
      ],
      "text/plain": [
       "<IPython.core.display.HTML object>"
      ]
     },
     "metadata": {},
     "output_type": "display_data"
    },
    {
     "ename": "FileNotFoundError",
     "evalue": "[Errno 2] No such file or directory: '../images/inference/confusion_matrix_normalized.png'",
     "output_type": "error",
     "traceback": [
      "\u001b[1;31m---------------------------------------------------------------------------\u001b[0m",
      "\u001b[1;31mFileNotFoundError\u001b[0m                         Traceback (most recent call last)",
      "Cell \u001b[1;32mIn[1], line 35\u001b[0m\n\u001b[0;32m     10\u001b[0m image_info \u001b[39m=\u001b[39m [\n\u001b[0;32m     11\u001b[0m     (\u001b[39m\"\u001b[39m\u001b[39m../images/inference/confusion_matrix_normalized.png\u001b[39m\u001b[39m\"\u001b[39m, \u001b[39m\"\u001b[39m\u001b[39mConfusion Matrix (Normalized)\u001b[39m\u001b[39m\"\u001b[39m),\n\u001b[0;32m     12\u001b[0m     (\u001b[39m\"\u001b[39m\u001b[39m../images/inference/confusion_matrix.png\u001b[39m\u001b[39m\"\u001b[39m, \u001b[39m\"\u001b[39m\u001b[39mConfusion Matrix\u001b[39m\u001b[39m\"\u001b[39m),\n\u001b[1;32m   (...)\u001b[0m\n\u001b[0;32m     31\u001b[0m     (\u001b[39m\"\u001b[39m\u001b[39m../images/inference/val_batch2_pred.jpg\u001b[39m\u001b[39m\"\u001b[39m, \u001b[39m\"\u001b[39m\u001b[39mValidation Batch 2 (Predictions)\u001b[39m\u001b[39m\"\u001b[39m),\n\u001b[0;32m     32\u001b[0m ]\n\u001b[0;32m     34\u001b[0m \u001b[39mfor\u001b[39;00m image_path, title \u001b[39min\u001b[39;00m image_info:\n\u001b[1;32m---> 35\u001b[0m     display_image(image_path, title)\n",
      "Cell \u001b[1;32mIn[1], line 6\u001b[0m, in \u001b[0;36mdisplay_image\u001b[1;34m(image_path, title, width)\u001b[0m\n\u001b[0;32m      4\u001b[0m \u001b[39mdef\u001b[39;00m \u001b[39mdisplay_image\u001b[39m(image_path, title, width\u001b[39m=\u001b[39m\u001b[39m500\u001b[39m):\n\u001b[0;32m      5\u001b[0m     display(HTML(\u001b[39mf\u001b[39m\u001b[39m\"\u001b[39m\u001b[39m<h2>\u001b[39m\u001b[39m{\u001b[39;00mtitle\u001b[39m}\u001b[39;00m\u001b[39m</h2>\u001b[39m\u001b[39m\"\u001b[39m))\n\u001b[1;32m----> 6\u001b[0m     display(Image(filename\u001b[39m=\u001b[39;49mimage_path, width\u001b[39m=\u001b[39;49mwidth))\n\u001b[0;32m      7\u001b[0m     display(HTML(\u001b[39m\"\u001b[39m\u001b[39m<br>\u001b[39m\u001b[39m\"\u001b[39m))\n",
      "File \u001b[1;32mc:\\Users\\kheri\\anaconda3\\lib\\site-packages\\IPython\\core\\display.py:970\u001b[0m, in \u001b[0;36mImage.__init__\u001b[1;34m(self, data, url, filename, format, embed, width, height, retina, unconfined, metadata, alt)\u001b[0m\n\u001b[0;32m    968\u001b[0m \u001b[39mself\u001b[39m\u001b[39m.\u001b[39munconfined \u001b[39m=\u001b[39m unconfined\n\u001b[0;32m    969\u001b[0m \u001b[39mself\u001b[39m\u001b[39m.\u001b[39malt \u001b[39m=\u001b[39m alt\n\u001b[1;32m--> 970\u001b[0m \u001b[39msuper\u001b[39;49m(Image, \u001b[39mself\u001b[39;49m)\u001b[39m.\u001b[39;49m\u001b[39m__init__\u001b[39;49m(data\u001b[39m=\u001b[39;49mdata, url\u001b[39m=\u001b[39;49murl, filename\u001b[39m=\u001b[39;49mfilename,\n\u001b[0;32m    971\u001b[0m         metadata\u001b[39m=\u001b[39;49mmetadata)\n\u001b[0;32m    973\u001b[0m \u001b[39mif\u001b[39;00m \u001b[39mself\u001b[39m\u001b[39m.\u001b[39mwidth \u001b[39mis\u001b[39;00m \u001b[39mNone\u001b[39;00m \u001b[39mand\u001b[39;00m \u001b[39mself\u001b[39m\u001b[39m.\u001b[39mmetadata\u001b[39m.\u001b[39mget(\u001b[39m'\u001b[39m\u001b[39mwidth\u001b[39m\u001b[39m'\u001b[39m, {}):\n\u001b[0;32m    974\u001b[0m     \u001b[39mself\u001b[39m\u001b[39m.\u001b[39mwidth \u001b[39m=\u001b[39m metadata[\u001b[39m'\u001b[39m\u001b[39mwidth\u001b[39m\u001b[39m'\u001b[39m]\n",
      "File \u001b[1;32mc:\\Users\\kheri\\anaconda3\\lib\\site-packages\\IPython\\core\\display.py:327\u001b[0m, in \u001b[0;36mDisplayObject.__init__\u001b[1;34m(self, data, url, filename, metadata)\u001b[0m\n\u001b[0;32m    324\u001b[0m \u001b[39melif\u001b[39;00m \u001b[39mself\u001b[39m\u001b[39m.\u001b[39mmetadata \u001b[39mis\u001b[39;00m \u001b[39mNone\u001b[39;00m:\n\u001b[0;32m    325\u001b[0m     \u001b[39mself\u001b[39m\u001b[39m.\u001b[39mmetadata \u001b[39m=\u001b[39m {}\n\u001b[1;32m--> 327\u001b[0m \u001b[39mself\u001b[39;49m\u001b[39m.\u001b[39;49mreload()\n\u001b[0;32m    328\u001b[0m \u001b[39mself\u001b[39m\u001b[39m.\u001b[39m_check_data()\n",
      "File \u001b[1;32mc:\\Users\\kheri\\anaconda3\\lib\\site-packages\\IPython\\core\\display.py:1005\u001b[0m, in \u001b[0;36mImage.reload\u001b[1;34m(self)\u001b[0m\n\u001b[0;32m   1003\u001b[0m \u001b[39m\u001b[39m\u001b[39m\"\"\"Reload the raw data from file or URL.\"\"\"\u001b[39;00m\n\u001b[0;32m   1004\u001b[0m \u001b[39mif\u001b[39;00m \u001b[39mself\u001b[39m\u001b[39m.\u001b[39membed:\n\u001b[1;32m-> 1005\u001b[0m     \u001b[39msuper\u001b[39;49m(Image,\u001b[39mself\u001b[39;49m)\u001b[39m.\u001b[39;49mreload()\n\u001b[0;32m   1006\u001b[0m     \u001b[39mif\u001b[39;00m \u001b[39mself\u001b[39m\u001b[39m.\u001b[39mretina:\n\u001b[0;32m   1007\u001b[0m         \u001b[39mself\u001b[39m\u001b[39m.\u001b[39m_retina_shape()\n",
      "File \u001b[1;32mc:\\Users\\kheri\\anaconda3\\lib\\site-packages\\IPython\\core\\display.py:353\u001b[0m, in \u001b[0;36mDisplayObject.reload\u001b[1;34m(self)\u001b[0m\n\u001b[0;32m    351\u001b[0m \u001b[39mif\u001b[39;00m \u001b[39mself\u001b[39m\u001b[39m.\u001b[39mfilename \u001b[39mis\u001b[39;00m \u001b[39mnot\u001b[39;00m \u001b[39mNone\u001b[39;00m:\n\u001b[0;32m    352\u001b[0m     encoding \u001b[39m=\u001b[39m \u001b[39mNone\u001b[39;00m \u001b[39mif\u001b[39;00m \u001b[39m\"\u001b[39m\u001b[39mb\u001b[39m\u001b[39m\"\u001b[39m \u001b[39min\u001b[39;00m \u001b[39mself\u001b[39m\u001b[39m.\u001b[39m_read_flags \u001b[39melse\u001b[39;00m \u001b[39m\"\u001b[39m\u001b[39mutf-8\u001b[39m\u001b[39m\"\u001b[39m\n\u001b[1;32m--> 353\u001b[0m     \u001b[39mwith\u001b[39;00m \u001b[39mopen\u001b[39;49m(\u001b[39mself\u001b[39;49m\u001b[39m.\u001b[39;49mfilename, \u001b[39mself\u001b[39;49m\u001b[39m.\u001b[39;49m_read_flags, encoding\u001b[39m=\u001b[39;49mencoding) \u001b[39mas\u001b[39;00m f:\n\u001b[0;32m    354\u001b[0m         \u001b[39mself\u001b[39m\u001b[39m.\u001b[39mdata \u001b[39m=\u001b[39m f\u001b[39m.\u001b[39mread()\n\u001b[0;32m    355\u001b[0m \u001b[39melif\u001b[39;00m \u001b[39mself\u001b[39m\u001b[39m.\u001b[39murl \u001b[39mis\u001b[39;00m \u001b[39mnot\u001b[39;00m \u001b[39mNone\u001b[39;00m:\n\u001b[0;32m    356\u001b[0m     \u001b[39m# Deferred import\u001b[39;00m\n",
      "\u001b[1;31mFileNotFoundError\u001b[0m: [Errno 2] No such file or directory: '../images/inference/confusion_matrix_normalized.png'"
     ]
    }
   ],
   "source": [
    "from IPython.display import Image, display\n",
    "from IPython.core.display import HTML\n",
    "\n",
    "def display_image(image_path, title, width=500):\n",
    "    display(HTML(f\"<h2>{title}</h2>\"))\n",
    "    display(Image(filename=image_path, width=width))\n",
    "    display(HTML(\"<br>\"))\n",
    "\n",
    "# Displaying the images\n",
    "image_info = [\n",
    "    (\"../images/inference/confusion_matrix_normalized.png\", \"Confusion Matrix (Normalized)\"),\n",
    "    (\"../images/inference/confusion_matrix.png\", \"Confusion Matrix\"),\n",
    "    (\"../images/inference/F1_curve.png\", \"F1 Curve\"),\n",
    "    (\"../images/inference/labels_correlogram.jpg\", \"Labels Correlogram\"),\n",
    "    (\"../images/inference/labels.jpg\", \"Labels\"),\n",
    "    (\"../images/inference/P_curve.png\", \"Precision Curve\"),\n",
    "    (\"../images/inference/PR_curve.png\", \"Precision-Recall Curve\"),\n",
    "    (\"../images/inference/R_curve.png\", \"Recall Curve\"),\n",
    "    (\"../images/inference/results.png\", \"Results\"),\n",
    "    (\"../images/inference/train_batch0.jpg\", \"Training Batch 0\"),\n",
    "    (\"../images/inference/train_batch1.jpg\", \"Training Batch 1\"),\n",
    "    (\"../images/inference/train_batch117360.jpg\", \"Training Batch 117360\"),\n",
    "    (\"../images/inference/train_batch117361.jpg\", \"Training Batch 117361\"),\n",
    "    (\"../images/inference/train_batch117362.jpg\", \"Training Batch 117362\"),\n",
    "    (\"../images/inference/train_batch2.jpg\", \"Training Batch 2\"),\n",
    "    (\"../images/inference/val_batch0_labels.jpg\", \"Validation Batch 0 (Labels)\"),\n",
    "    (\"../images/inference/val_batch1_labels.jpg\", \"Validation Batch 1 (Labels)\"),\n",
    "    (\"../images/inference/val_batch2_labels.jpg\", \"Validation Batch 2 (Labels)\"),\n",
    "    (\"../images/inference/val_batch0_pred.jpg\", \"Validation Batch 0 (Predictions)\"),\n",
    "    (\"../images/inference/val_batch1_pred.jpg\", \"Validation Batch 1 (Predictions)\"),\n",
    "    (\"../images/inference/val_batch2_pred.jpg\", \"Validation Batch 2 (Predictions)\"),\n",
    "]\n",
    "\n",
    "for image_path, title in image_info:\n",
    "    display_image(image_path, title)\n"
   ]
  }
 ],
 "metadata": {
  "kernelspec": {
   "display_name": "base",
   "language": "python",
   "name": "python3"
  },
  "language_info": {
   "codemirror_mode": {
    "name": "ipython",
    "version": 3
   },
   "file_extension": ".py",
   "mimetype": "text/x-python",
   "name": "python",
   "nbconvert_exporter": "python",
   "pygments_lexer": "ipython3",
   "version": "3.10.9"
  },
  "orig_nbformat": 4
 },
 "nbformat": 4,
 "nbformat_minor": 2
}
